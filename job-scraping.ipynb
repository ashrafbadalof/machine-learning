{
 "cells": [
  {
   "cell_type": "code",
   "execution_count": 26,
   "id": "d8caebd9-3976-43f5-8bf6-eba4d6bf7a25",
   "metadata": {},
   "outputs": [],
   "source": [
    "import requests\n",
    "from bs4 import BeautifulSoup\n",
    "\n",
    "url = \"https://remote.co/remote-jobs/developer/\"\n",
    "\n",
    "page = requests.get(url)\n",
    "soup = BeautifulSoup(page.content, 'html.parser')\n",
    "\n",
    "# prettified_html = soup.prettify()\n",
    "#print(prettified_html)"
   ]
  },
  {
   "cell_type": "code",
   "execution_count": 67,
   "id": "bb23caa5-a0c6-424a-a07e-04dfdfb2339f",
   "metadata": {},
   "outputs": [
    {
     "name": "stdout",
     "output_type": "stream",
     "text": [
      "50\n",
      "50\n",
      "50\n"
     ]
    }
   ],
   "source": [
    "results = soup.find('div', class_=\"card bg-white m-0\")\n",
    "# print(results.prettify())\n",
    "jobs = results.find_all('div', class_=\"card border-0 p-3 job-card bg-white\")\n",
    "\n",
    "job_titles = []\n",
    "job_types = []\n",
    "dates = []\n",
    "\n",
    "for job in jobs:\n",
    "    job_title = job.find('span', class_=\"font-weight-bold larger\").text\n",
    "    job_type = job.find('span', class_=\"badge badge-success\").text\n",
    "    date = job.find('date').text\n",
    "    \n",
    "    job_titles.append(job_title)\n",
    "    job_types.append(job_type)\n",
    "    dates.append(date)\n",
    "    # print(job_title)\n",
    "    # print(job_type)\n",
    "    # print(date)\n",
    "print(len(job_titles))\n",
    "print(len(job_types))\n",
    "print(len(dates))\n",
    "all = zip(job_titles, job_types, dates)"
   ]
  }
 ],
 "metadata": {
  "kernelspec": {
   "display_name": "Python 3 (ipykernel)",
   "language": "python",
   "name": "python3"
  },
  "language_info": {
   "codemirror_mode": {
    "name": "ipython",
    "version": 3
   },
   "file_extension": ".py",
   "mimetype": "text/x-python",
   "name": "python",
   "nbconvert_exporter": "python",
   "pygments_lexer": "ipython3",
   "version": "3.11.5"
  }
 },
 "nbformat": 4,
 "nbformat_minor": 5
}
