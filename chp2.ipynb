{
 "cells": [
  {
   "cell_type": "code",
   "execution_count": 1,
   "id": "ec76f240-8d89-49f7-ae5b-65ac8232b767",
   "metadata": {},
   "outputs": [],
   "source": [
    "import numpy as np\n",
    "from sklearn.linear_model import LinearRegression"
   ]
  },
  {
   "cell_type": "code",
   "execution_count": 2,
   "id": "0368d05a-4967-4d90-ac80-9e6590992c3b",
   "metadata": {},
   "outputs": [
    {
     "name": "stdout",
     "output_type": "stream",
     "text": [
      "[[1.97897834]]\n",
      "[4.22215108]\n"
     ]
    }
   ],
   "source": [
    "np.random.seed(0)\n",
    "X = 3 * np.random.rand(100, 1)\n",
    "y = 2 * X + 4 + np.random.randn(100, 1)\n",
    "\n",
    "model = LinearRegression()\n",
    "model.fit(X, y)\n",
    "\n",
    "w = model.coef_\n",
    "print(w)\n",
    "b = model.intercept_\n",
    "print(b)"
   ]
  },
  {
   "cell_type": "code",
   "execution_count": 3,
   "id": "7a26313a-cdaa-4423-9a4d-704c98f30400",
   "metadata": {},
   "outputs": [
    {
     "data": {
      "text/plain": [
       "array([[14.11704278]])"
      ]
     },
     "execution_count": 3,
     "metadata": {},
     "output_type": "execute_result"
    }
   ],
   "source": [
    "input = np.array([5]).reshape(-1,1)\n",
    "model.predict(input)"
   ]
  },
  {
   "cell_type": "code",
   "execution_count": 4,
   "id": "3abab49b-5f07-4239-84cc-0b52b5d85f8b",
   "metadata": {},
   "outputs": [
    {
     "data": {
      "text/plain": [
       "<matplotlib.collections.PathCollection at 0x23fc7c2f0d0>"
      ]
     },
     "execution_count": 4,
     "metadata": {},
     "output_type": "execute_result"
    },
    {
     "data": {
      "image/png": "[encoded data removed]",
      "text/plain": [
       "<Figure size 640x480 with 1 Axes>"
      ]
     },
     "metadata": {},
     "output_type": "display_data"
    }
   ],
   "source": [
    "import matplotlib.pyplot as plt\n",
    "plt.scatter(X, y)"
   ]
  },
  {
   "cell_type": "code",
   "execution_count": 9,
   "id": "adc8c11a-0522-4e40-ae68-62939e1554f0",
   "metadata": {},
   "outputs": [
    {
     "data": {
      "text/html": [
       "<div>\n",
       "<style scoped>\n",
       "    .dataframe tbody tr th:only-of-type {\n",
       "        vertical-align: middle;\n",
       "    }\n",
       "\n",
       "    .dataframe tbody tr th {\n",
       "        vertical-align: top;\n",
       "    }\n",
       "\n",
       "    .dataframe thead th {\n",
       "        text-align: right;\n",
       "    }\n",
       "</style>\n",
       "<table border=\"1\" class=\"dataframe\">\n",
       "  <thead>\n",
       "    <tr style=\"text-align: right;\">\n",
       "      <th></th>\n",
       "      <th>Country</th>\n",
       "      <th>Year</th>\n",
       "      <th>Data.Daily cigarettes</th>\n",
       "      <th>Data.Percentage.Male</th>\n",
       "      <th>Data.Percentage.Female</th>\n",
       "      <th>Data.Percentage.Total</th>\n",
       "      <th>Data.Smokers.Total</th>\n",
       "      <th>Data.Smokers.Female</th>\n",
       "      <th>Data.Smokers.Male</th>\n",
       "    </tr>\n",
       "  </thead>\n",
       "  <tbody>\n",
       "    <tr>\n",
       "      <th>0</th>\n",
       "      <td>Afghanistan</td>\n",
       "      <td>1980</td>\n",
       "      <td>5.7</td>\n",
       "      <td>10.4</td>\n",
       "      <td>18.4</td>\n",
       "      <td>2.4</td>\n",
       "      <td>733520</td>\n",
       "      <td>81707</td>\n",
       "      <td>651813</td>\n",
       "    </tr>\n",
       "    <tr>\n",
       "      <th>1</th>\n",
       "      <td>Afghanistan</td>\n",
       "      <td>1981</td>\n",
       "      <td>5.8</td>\n",
       "      <td>10.5</td>\n",
       "      <td>18.4</td>\n",
       "      <td>2.3</td>\n",
       "      <td>720102</td>\n",
       "      <td>79276</td>\n",
       "      <td>640826</td>\n",
       "    </tr>\n",
       "    <tr>\n",
       "      <th>2</th>\n",
       "      <td>Afghanistan</td>\n",
       "      <td>1982</td>\n",
       "      <td>5.8</td>\n",
       "      <td>10.5</td>\n",
       "      <td>18.5</td>\n",
       "      <td>2.3</td>\n",
       "      <td>700415</td>\n",
       "      <td>76061</td>\n",
       "      <td>624355</td>\n",
       "    </tr>\n",
       "    <tr>\n",
       "      <th>3</th>\n",
       "      <td>Afghanistan</td>\n",
       "      <td>1983</td>\n",
       "      <td>5.9</td>\n",
       "      <td>10.5</td>\n",
       "      <td>18.6</td>\n",
       "      <td>2.3</td>\n",
       "      <td>676984</td>\n",
       "      <td>72411</td>\n",
       "      <td>604572</td>\n",
       "    </tr>\n",
       "    <tr>\n",
       "      <th>4</th>\n",
       "      <td>Afghanistan</td>\n",
       "      <td>1984</td>\n",
       "      <td>6.0</td>\n",
       "      <td>10.6</td>\n",
       "      <td>18.6</td>\n",
       "      <td>2.3</td>\n",
       "      <td>653812</td>\n",
       "      <td>68908</td>\n",
       "      <td>584905</td>\n",
       "    </tr>\n",
       "  </tbody>\n",
       "</table>\n",
       "</div>"
      ],
      "text/plain": [
       "       Country  Year  Data.Daily cigarettes  Data.Percentage.Male  \\\n",
       "0  Afghanistan  1980                    5.7                  10.4   \n",
       "1  Afghanistan  1981                    5.8                  10.5   \n",
       "2  Afghanistan  1982                    5.8                  10.5   \n",
       "3  Afghanistan  1983                    5.9                  10.5   \n",
       "4  Afghanistan  1984                    6.0                  10.6   \n",
       "\n",
       "   Data.Percentage.Female  Data.Percentage.Total  Data.Smokers.Total  \\\n",
       "0                    18.4                    2.4              733520   \n",
       "1                    18.4                    2.3              720102   \n",
       "2                    18.5                    2.3              700415   \n",
       "3                    18.6                    2.3              676984   \n",
       "4                    18.6                    2.3              653812   \n",
       "\n",
       "   Data.Smokers.Female  Data.Smokers.Male  \n",
       "0                81707             651813  \n",
       "1                79276             640826  \n",
       "2                76061             624355  \n",
       "3                72411             604572  \n",
       "4                68908             584905  "
      ]
     },
     "execution_count": 9,
     "metadata": {},
     "output_type": "execute_result"
    }
   ],
   "source": [
    "import pandas as pd\n",
    "data = pd.read_csv(\"smoking.csv\")\n",
    "data.head()"
   ]
  },
  {
   "cell_type": "code",
   "execution_count": 18,
   "id": "201062be-07d9-4b6a-ba45-f2042c8acc87",
   "metadata": {},
   "outputs": [],
   "source": [
    "def split_train_test(data, ratio):\n",
    "    np.random.seed(42)\n",
    "    shuffled_indices = np.random.permutation(len(data))\n",
    "    test_size = int(len(data) * ratio)\n",
    "    test_indices = shuffled_indices[:test_size]\n",
    "    train_indices = shuffled_indices[test_size:]\n",
    "    return data.iloc[train_indices], data.iloc[test_indices]"
   ]
  },
  {
   "cell_type": "code",
   "execution_count": 19,
   "id": "076d1645-978a-4ed2-84c2-b12c17b9ac8b",
   "metadata": {},
   "outputs": [
    {
     "data": {
      "text/plain": [
       "4964"
      ]
     },
     "execution_count": 19,
     "metadata": {},
     "output_type": "execute_result"
    }
   ],
   "source": [
    "train_set, test_set = split_train_test(data, 0.2)\n",
    "len(train_set)"
   ]
  },
  {
   "cell_type": "code",
   "execution_count": 20,
   "id": "ee0122fa-e98e-401e-b0f0-517cea3b6918",
   "metadata": {},
   "outputs": [
    {
     "data": {
      "text/plain": [
       "1240"
      ]
     },
     "execution_count": 20,
     "metadata": {},
     "output_type": "execute_result"
    }
   ],
   "source": [
    "len(test_set)"
   ]
  }
 ],
 "metadata": {
  "kernelspec": {
   "display_name": "Python 3 (ipykernel)",
   "language": "python",
   "name": "python3"
  },
  "language_info": {
   "codemirror_mode": {
    "name": "ipython",
    "version": 3
   },
   "file_extension": ".py",
   "mimetype": "text/x-python",
   "name": "python",
   "nbconvert_exporter": "python",
   "pygments_lexer": "ipython3",
   "version": "3.11.5"
  }
 },
 "nbformat": 4,
 "nbformat_minor": 5
}
